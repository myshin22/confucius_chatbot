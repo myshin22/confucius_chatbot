{
 "cells": [
  {
   "cell_type": "code",
   "execution_count": 14,
   "metadata": {},
   "outputs": [],
   "source": [
    "import pickle\n",
    "\n",
    "infile = open(\"conf_style_raw.txt\", \"r\", encoding='UTF8')\n",
    "\n",
    "lines = infile.readlines()\n",
    "ansNext = False\n",
    "result= []\n",
    "input = \"\"\n",
    "output = \"\"\n",
    "for line in lines:\n",
    "    if (len(line) <= 1 or (line[0].isdigit() and len(line) <= 5)):\n",
    "        continue\n",
    "    \n",
    "    if (ansNext):\n",
    "        output = line\n",
    "\n",
    "        qna = {\"input\":input, \"output\":output}\n",
    "        result.append(qna)\n",
    "        ansNext = False\n",
    "        continue\n",
    "\n",
    "    input = line\n",
    "    ansNext = True\n",
    "\n",
    "infile.close()\n",
    "\n",
    "with open(\"conf_styles.pickle\", \"wb\") as pw:\n",
    "    pickle.dump(result, pw)"
   ]
  }
 ],
 "metadata": {
  "kernelspec": {
   "display_name": "Python 3",
   "language": "python",
   "name": "python3"
  },
  "language_info": {
   "codemirror_mode": {
    "name": "ipython",
    "version": 3
   },
   "file_extension": ".py",
   "mimetype": "text/x-python",
   "name": "python",
   "nbconvert_exporter": "python",
   "pygments_lexer": "ipython3",
   "version": "3.11.2"
  }
 },
 "nbformat": 4,
 "nbformat_minor": 2
}
