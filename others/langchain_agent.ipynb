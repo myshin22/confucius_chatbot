{
 "cells": [
  {
   "cell_type": "code",
   "execution_count": 1,
   "id": "cd008ede",
   "metadata": {},
   "outputs": [],
   "source": [
    "from langchain.vectorstores import Chroma\n",
    "\n",
    "from langchain.embeddings import OpenAIEmbeddings\n",
    "from langchain.text_splitter import RecursiveCharacterTextSplitter\n",
    "\n",
    "from langchain.tools import Tool\n",
    "\n",
    "from langchain.document_loaders import DirectoryLoader, TextLoader\n",
    "\n",
    "from langchain.memory import ConversationBufferMemory\n",
    "\n",
    "from langchain.agents.openai_functions_agent.base import OpenAIFunctionsAgent\n",
    "from langchain.schema import SystemMessage\n",
    "from langchain.prompts import MessagesPlaceholder\n",
    "\n",
    "from langchain.chat_models import ChatOpenAI\n",
    "from langchain.agents import AgentExecutor\n",
    "\n",
    "from langchain.chains import RetrievalQA\n",
    "\n",
    "#import env\n",
    "import os\n",
    "import sys"
   ]
  },
  {
   "cell_type": "code",
   "execution_count": 2,
   "id": "a74161a3",
   "metadata": {},
   "outputs": [],
   "source": [
    "OPENAI_API_KEY = \"\"\n",
    "\n",
    "os.environ[\"OPENAI_API_KEY\"] = OPENAI_API_KEY"
   ]
  },
  {
   "cell_type": "code",
   "execution_count": 4,
   "id": "42531aa5",
   "metadata": {},
   "outputs": [],
   "source": [
    "loader=TextLoader('analects_raw.txt',encoding='utf-8')\n",
    "data=loader.load()\n",
    "text_splitter=RecursiveCharacterTextSplitter(chunk_size=200,chunk_overlap=10)\n",
    "splits=text_splitter.split_documents(data)\n",
    "embedding=OpenAIEmbeddings(openai_api_key=os.environ['OPENAI_API_KEY'])\n",
    "vectordb=Chroma.from_documents(\n",
    "    documents=splits,embedding=embedding,collection_name='personal-data'\n",
    ")\n",
    "llm=ChatOpenAI(temperature=0)\n",
    "personal_data=RetrievalQA.from_chain_type(\n",
    "    llm=llm, chain_type='stuff',retriever=vectordb.as_retriever()\n",
    ")\n",
    "personal_data_tool=Tool(\n",
    "    name='PersonalData',\n",
    "    func=personal_data.run,\n",
    "    description='이건 논어야'\n",
    ")\n",
    "memory_key='history'\n",
    "memory=ConversationBufferMemory(memory_key=memory_key,return_messages=True)\n",
    "system_message=SystemMessage(\n",
    "    content=(\n",
    "        '너가 대답할 수 있는 최고의 대답을 해줘'\n",
    "        '논어를 적극 활용해서 논어랑 가장 관련성 높은 대답을 해줘'\n",
    "        '논어에 써있는 사례도 같이 말해줘'\n",
    "        '논어의 말투처럼 말해줘'\n",
    "    )\n",
    ")"
   ]
  },
  {
   "cell_type": "code",
   "execution_count": null,
   "id": "7bbec5f2",
   "metadata": {},
   "outputs": [],
   "source": [
    "prompt=OpenAIFunctionsAgent.create_prompt(\n",
    "    system_message=system_message,\n",
    "    extra_prompt_messages=[MessagesPlaceholder(variable_name=memory_key)]\n",
    ")\n",
    "tools=[personal_data_tool]\n",
    "agent=OpenAIFunctionsAgent(llm=llm,tools=tools,prompt=prompt)\n",
    "agent_executor=AgentExecutor(\n",
    "    agent=agent,\n",
    "    tools=tools,\n",
    "    memory=memory,\n",
    "    verbose=True,\n",
    "    handle_parsing_errors=True\n",
    ")"
   ]
  },
  {
   "cell_type": "code",
   "execution_count": null,
   "id": "b2644c64",
   "metadata": {},
   "outputs": [],
   "source": [
    "result=agent_executor({'input': '공자님, 삶이 힘들고 고달픕니다. 공부도 하기싫습니다. 어떻게 해야 좋을까요?'})\n",
    "prompt=None"
   ]
  }
 ],
 "metadata": {
  "kernelspec": {
   "display_name": "Python 3 (ipykernel)",
   "language": "python",
   "name": "python3"
  },
  "language_info": {
   "codemirror_mode": {
    "name": "ipython",
    "version": 3
   },
   "file_extension": ".py",
   "mimetype": "text/x-python",
   "name": "python",
   "nbconvert_exporter": "python",
   "pygments_lexer": "ipython3",
   "version": "3.11.2"
  }
 },
 "nbformat": 4,
 "nbformat_minor": 5
}
