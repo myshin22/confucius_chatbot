{
 "cells": [
  {
   "cell_type": "code",
   "execution_count": 7,
   "metadata": {},
   "outputs": [
    {
     "name": "stdout",
     "output_type": "stream",
     "text": [
      "{'reasoning': 'The assistant\\'s response is historically accurate as it refers to the role of scholars or \"선비\" in ancient China, who were known for their scholarly pursuits and moral conduct. The assistant also provides a reasonable explanation of the characteristics and responsibilities of a \"선비\", citing ancient wisdom from Confucius. Therefore, the assistant\\'s response is both historically accurate and reasonable. Rating: [[9]]', 'score': 9}\n"
     ]
    }
   ],
   "source": [
    "#Evaluation-custom criterion\n",
    "from langchain.evaluation import load_evaluator\n",
    "import os\n",
    "OPENAI_API_KEY = \"\"\n",
    "os.environ[\"OPENAI_API_KEY\"] = OPENAI_API_KEY\n",
    "\n",
    "input_text = \"\"\"\n",
    "선비란 무엇인가?\n",
    "\"\"\"\n",
    "result = \"\"\"\n",
    " 선비는 고대 중국에서 학문을 연구하고 도덕적인 행동을 통해 사회를 이끌어가는 사람을 말합니다. 자장의 말에 따르면, 선비는 위태로운 일을 보면 목숨을 바치고, 이득될 일을 보면 의로운 일인가를 생각하며, 제사를 지낼 때는 공경함을 생각하고, 상을 당해서는 슬픔을 생각한다면, 그는 선비로서의 기본적인 자격을 갖춘 것이라고 합니다. 또한, 선비는 덕을 지키되 폭넓지 못하고, 도를 믿되 독실하지 못하다면, 그의 존재가 의미가 없다는 것을 인지해야 합니다.\n",
    "\"\"\"\n",
    "\n",
    "custom_criterion = {\n",
    "    \"historic\": \"Does the output contains ancient wisdom?\",\n",
    "    \"reasonable\": \"Does the output contains rational reasons or basis?\"\n",
    "}\n",
    "evaluator_custom =  load_evaluator(\n",
    "    #\"criteria\",\n",
    "    \"score_string\",\n",
    "    criteria = custom_criterion,\n",
    ")\n",
    "eval_result = evaluator_custom.evaluate_strings(\n",
    "    prediction=result,\n",
    "    input=input_text,\n",
    ")\n",
    "print(eval_result)"
   ]
  }
 ],
 "metadata": {
  "kernelspec": {
   "display_name": "Python 3",
   "language": "python",
   "name": "python3"
  },
  "language_info": {
   "codemirror_mode": {
    "name": "ipython",
    "version": 3
   },
   "file_extension": ".py",
   "mimetype": "text/x-python",
   "name": "python",
   "nbconvert_exporter": "python",
   "pygments_lexer": "ipython3",
   "version": "3.11.2"
  }
 },
 "nbformat": 4,
 "nbformat_minor": 2
}
