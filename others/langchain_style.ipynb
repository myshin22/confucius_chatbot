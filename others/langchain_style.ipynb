{
 "cells": [
  {
   "cell_type": "code",
   "execution_count": null,
   "metadata": {},
   "outputs": [],
   "source": [
    "import os\n",
    "OPENAI_API_KEY = \"\"\n",
    "\n",
    "os.environ[\"OPENAI_API_KEY\"] = OPENAI_API_KEY"
   ]
  },
  {
   "cell_type": "code",
   "execution_count": null,
   "metadata": {},
   "outputs": [],
   "source": [
    "from langchain.prompts import PromptTemplate\n",
    "import pickle\n",
    "\n",
    "example_prompt = PromptTemplate(\n",
    "    input_variables=[\"input\", \"output\"],\n",
    "    template=\"Input: {input}\\nOutput: {output}\",\n",
    ")\n",
    "\n",
    "with open(\"conf_styles.pickle\", \"rb\") as pr:\n",
    "    examples = pickle.load(pr)"
   ]
  },
  {
   "cell_type": "code",
   "execution_count": null,
   "metadata": {},
   "outputs": [],
   "source": [
    "from langchain.prompts import FewShotPromptTemplate\n",
    "from langchain.prompts.example_selector import SemanticSimilarityExampleSelector\n",
    "from langchain.embeddings.openai import OpenAIEmbeddings\n",
    "from langchain.vectorstores import FAISS\n",
    "\n",
    "#k값 조정해보기\n",
    "example_selector = SemanticSimilarityExampleSelector.from_examples(\n",
    "    examples, OpenAIEmbeddings(), FAISS, k=4\n",
    ")\n",
    "similar_prompt = FewShotPromptTemplate(\n",
    "    example_selector=example_selector,\n",
    "    example_prompt=example_prompt,\n",
    "    prefix=\n",
    "        \"\"\"\n",
    "        너는 사용자의 문장을 공자의 말투로 바꿔주는 인공지능이야.\n",
    "        사용자의 질문을 공자라면 어떻게 말했을지 생각해서 같은 의미의 문장을 답변해줘\n",
    "        반드시 공자의 말투로 답변해주어야 해.\n",
    "        \"\"\",\n",
    "    suffix=\"Input: {input_noun}\\n\",\n",
    "    input_variables=[\"input_noun\"],\n",
    ")"
   ]
  },
  {
   "cell_type": "code",
   "execution_count": null,
   "metadata": {},
   "outputs": [],
   "source": [
    "input_set = {\"question\":\"만약 부를 추구해서 얻을 수 있다면, 천한 일이라도 채찍을 들고 하겠어요. 하지만 부가 추구만으로 얻어지지 않는 것이라면, 제가 좋아하는 일을 하는 편이 낫겠죠.\",\n",
    "             \"answer\":\"부가 만약 추구해서 얻을 수 있는 것이라면, 비록 채찍을 드는 천한 일이라도 나는 하겠다. 그러나 추구해서 얻을 수 없는 일이라면 내가 좋아하는 일을 하겠다.\"}"
   ]
  },
  {
   "cell_type": "code",
   "execution_count": null,
   "metadata": {},
   "outputs": [],
   "source": [
    "from langchain.chains import LLMChain\n",
    "from langchain.chat_models import ChatOpenAI\n",
    "\n",
    "chat_model = ChatOpenAI(temperature=1.0, model=\"gpt-3.5-turbo\")\n",
    "chain = LLMChain(llm=chat_model, prompt=similar_prompt, verbose=True)\n",
    "\n",
    "result = chain(similar_prompt.format(input_noun=input_set[\"question\"]))\n",
    "print(result[\"text\"])"
   ]
  },
  {
   "cell_type": "code",
   "execution_count": null,
   "metadata": {},
   "outputs": [],
   "source": [
    "from langchain.evaluation import load_evaluator\n",
    "\n",
    "evaluator = load_evaluator(\"embedding_distance\", embeddings=OpenAIEmbeddings())\n",
    "final_string = result[\"text\"].replace(\"Output: \", \"\")\n",
    "score = evaluator.evaluate_strings(prediction=final_string, reference=input_set[\"answer\"])\n",
    "print(score)"
   ]
  }
 ],
 "metadata": {
  "kernelspec": {
   "display_name": "Python 3",
   "language": "python",
   "name": "python3"
  },
  "language_info": {
   "codemirror_mode": {
    "name": "ipython",
    "version": 3
   },
   "file_extension": ".py",
   "mimetype": "text/x-python",
   "name": "python",
   "nbconvert_exporter": "python",
   "pygments_lexer": "ipython3",
   "version": "3.11.2"
  }
 },
 "nbformat": 4,
 "nbformat_minor": 2
}
